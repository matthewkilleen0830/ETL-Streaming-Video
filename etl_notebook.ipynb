{
 "cells": [
  {
   "cell_type": "markdown",
   "metadata": {},
   "source": [
    "# ETL Project:  Video Streaming Services\n",
    "Our project looks at the ETL process of the top video streaming services.  We aim to create a database with (4) tables, each consisting of television shows from popular platforms such as Amazon Prime, Disney Plus, Hulu, and Netflix.  Since each provider has different titles with little to no overlap, our objective is to create a relational database for those who are subscribed to all of them to have the ability to run queries with specified parameters to find something to watch and where. \n",
    "\n",
    "We plan to unite them by Title, Genre, and User Rating."
   ]
  },
  {
   "cell_type": "code",
   "execution_count": null,
   "metadata": {},
   "outputs": [],
   "source": [
    "# Dependencies and setup\n",
    "import pandas as pd\n",
    "import numpy as np\n",
    "from sqlalchemy import create_engine"
   ]
  },
  {
   "cell_type": "markdown",
   "metadata": {},
   "source": [
    "### Start of Amazon Prime"
   ]
  },
  {
   "cell_type": "code",
   "execution_count": null,
   "metadata": {},
   "outputs": [],
   "source": [
    "# Read Amazon Prime Shows CSV into DataFrame\n",
    "amazonPrime_file = \"Resources/amazon_prime_shows.csv\"\n",
    "amazonPrimeRaw_df = pd.read_csv(amazonPrime_file, encoding = \"iso-8859-1\")\n",
    "amazonPrimeRaw_df.head()"
   ]
  },
  {
   "cell_type": "code",
   "execution_count": null,
   "metadata": {},
   "outputs": [],
   "source": [
    "# Create new DataFrame with only desired columns\n",
    "amazonPrime_df = amazonPrimeRaw_df[[\"Name of the show\", \"Genre\", \"IMDb rating\"]].copy()\n",
    "amazonPrime_df"
   ]
  },
  {
   "cell_type": "code",
   "execution_count": null,
   "metadata": {},
   "outputs": [],
   "source": [
    "# Rename columns\n",
    "amazonPrime_df = amazonPrime_df.rename(columns = {\"Name of the show\":\"Title\", \"IMDb rating\":\"User_Rating\"})\n",
    "amazonPrime_df"
   ]
  },
  {
   "cell_type": "code",
   "execution_count": null,
   "metadata": {},
   "outputs": [],
   "source": [
    "# Split strings in Genre column\n",
    "a_df = amazonPrime_df[\"Genre\"].str.split(\" \", n = 1, expand = True)\n",
    "amazonPrime_df[\"Genre_1\"] = a_df[0]\n",
    "# amazonPrime_df[\"Genre_2\"] = a_df[1]\n",
    "\n",
    "# Drop old Genre column\n",
    "amazonPrime_df.drop(columns = [\"Genre\"], inplace = True)\n",
    "amazonPrime_df"
   ]
  },
  {
   "cell_type": "code",
   "execution_count": null,
   "metadata": {},
   "outputs": [],
   "source": [
    "# Drop unwanted characters from string in Genre_1\n",
    "amazonPrime_df[\"Genre_1\"] = amazonPrime_df[\"Genre_1\"].str.replace(\",\", \"\")\n",
    "amazonPrime_df"
   ]
  },
  {
   "cell_type": "code",
   "execution_count": null,
   "metadata": {},
   "outputs": [],
   "source": [
    "# Make genres consistent with other datasets\n",
    "amazonPrime_df[\"Genre_1\"] = amazonPrime_df[\"Genre_1\"].str.replace(\"Sci-fi\", \"Sci-Fi\")\n",
    "amazonPrime_df"
   ]
  },
  {
   "cell_type": "code",
   "execution_count": null,
   "metadata": {},
   "outputs": [],
   "source": [
    "# Drop rows containing NaN values\n",
    "amazonPrime_df.dropna(axis = 0, how = \"any\", thresh = None, subset = None, inplace = True)\n",
    "amazonPrime_df"
   ]
  },
  {
   "cell_type": "code",
   "execution_count": null,
   "metadata": {},
   "outputs": [],
   "source": [
    "amazonPrime_df.dtypes"
   ]
  },
  {
   "cell_type": "code",
   "execution_count": null,
   "metadata": {},
   "outputs": [],
   "source": [
    "# Export to CSV\n",
    "amazonPrime_df.to_csv(\"amazonPrime_df.csv\", index = False, header = True)"
   ]
  },
  {
   "cell_type": "markdown",
   "metadata": {},
   "source": [
    "### Start of Disney Plus"
   ]
  },
  {
   "cell_type": "code",
   "execution_count": null,
   "metadata": {},
   "outputs": [],
   "source": [
    "# Read Disney Plus Shows CSV into DataFrame\n",
    "disneyPlus_file = \"Resources/disney_plus_shows.csv\"\n",
    "disneyPlusRaw_df = pd.read_csv(disneyPlus_file)\n",
    "disneyPlusRaw_df.head()"
   ]
  },
  {
   "cell_type": "code",
   "execution_count": null,
   "metadata": {},
   "outputs": [],
   "source": [
    "# Create new DataFrame with only desired columns\n",
    "disneyPlus_df = disneyPlusRaw_df[[\"title\", \"genre\", \"imdb_rating\"]].copy()\n",
    "disneyPlus_df"
   ]
  },
  {
   "cell_type": "code",
   "execution_count": null,
   "metadata": {},
   "outputs": [],
   "source": [
    "# Rename columns\n",
    "disneyPlus_df = disneyPlus_df.rename(columns = {\"title\":\"Title\", \"genre\":\"Genre\", \"imdb_rating\":\"User_Rating\"})\n",
    "disneyPlus_df.head()"
   ]
  },
  {
   "cell_type": "code",
   "execution_count": null,
   "metadata": {},
   "outputs": [],
   "source": [
    "# Split strings in Genre column\n",
    "d_df = disneyPlus_df[\"Genre\"].str.split(\" \", n = 1, expand = True)\n",
    "disneyPlus_df[\"Genre_1\"] = d_df[0]\n",
    "# disneyPlus_df[\"Genre_2\"] = d_df[1]\n",
    "\n",
    "# Drop old Genre column\n",
    "disneyPlus_df.drop(columns = [\"Genre\"], inplace = True)\n",
    "disneyPlus_df"
   ]
  },
  {
   "cell_type": "code",
   "execution_count": null,
   "metadata": {},
   "outputs": [],
   "source": [
    "# # Split strings in Genre_2 column\n",
    "# d2_df = disneyPlus_df[\"Genre_2\"].str.split(\" \", n = 1, expand = True)\n",
    "# disneyPlus_df[\"Genre_3\"] = d2_df[0]\n",
    "# disneyPlus_df[\"Genre_4\"] = d2_df[1]\n",
    "\n",
    "# # Drop old Genre_2 and Genre_4 column\n",
    "# disneyPlus_df.drop(columns = [\"Genre_2\", \"Genre_4\"], inplace = True)\n",
    "# disneyPlus_df"
   ]
  },
  {
   "cell_type": "code",
   "execution_count": null,
   "metadata": {},
   "outputs": [],
   "source": [
    "# # Rename columns\n",
    "# disneyPlus_df = disneyPlus_df.rename(columns = {\"Genre_3\":\"Genre_2\"})\n",
    "# disneyPlus_df.head()"
   ]
  },
  {
   "cell_type": "code",
   "execution_count": null,
   "metadata": {},
   "outputs": [],
   "source": [
    "# Drop unwanted characters from string in Genre_1 and Genre_2\n",
    "disneyPlus_df[\"Genre_1\"] = disneyPlus_df[\"Genre_1\"].str.replace(\",\", \"\")\n",
    "# disneyPlus_df[\"Genre_2\"] = disneyPlus_df[\"Genre_2\"].str.replace(\",\", \" \")\n",
    "disneyPlus_df"
   ]
  },
  {
   "cell_type": "code",
   "execution_count": null,
   "metadata": {},
   "outputs": [],
   "source": [
    "# Make genres consistent with other datasets\n",
    "disneyPlus_df[\"Genre_1\"] = disneyPlus_df[\"Genre_1\"].str.replace(\"Reality-TV\", \"Reality\")\n",
    "disneyPlus_df"
   ]
  },
  {
   "cell_type": "code",
   "execution_count": null,
   "metadata": {},
   "outputs": [],
   "source": [
    "# Drop rows containing NaN values\n",
    "disneyPlus_df.dropna(axis = 0, how = \"any\", thresh = None, subset = None, inplace = True)\n",
    "disneyPlus_df"
   ]
  },
  {
   "cell_type": "code",
   "execution_count": null,
   "metadata": {},
   "outputs": [],
   "source": [
    "disneyPlus_df.dtypes"
   ]
  },
  {
   "cell_type": "code",
   "execution_count": null,
   "metadata": {},
   "outputs": [],
   "source": [
    "# Export to CSV\n",
    "disneyPlus_df.to_csv(\"disneyPlus_df.csv\", index = False, header = True)"
   ]
  },
  {
   "cell_type": "markdown",
   "metadata": {},
   "source": [
    "### Start of Hulu"
   ]
  },
  {
   "cell_type": "code",
   "execution_count": null,
   "metadata": {},
   "outputs": [],
   "source": [
    "# Read Hulu Shows CSV into DataFrame\n",
    "hulu_file = \"Resources/HuluRaw.csv\"\n",
    "huluRaw_df = pd.read_csv(hulu_file)\n",
    "huluRaw_df.head()"
   ]
  },
  {
   "cell_type": "code",
   "execution_count": null,
   "metadata": {},
   "outputs": [],
   "source": [
    "# Create new DataFrame with only desired columns\n",
    "hulu_df = huluRaw_df[[\"show/canonical_name\", \"show/genre\", \"show/rating\"]].copy()\n",
    "hulu_df"
   ]
  },
  {
   "cell_type": "code",
   "execution_count": null,
   "metadata": {},
   "outputs": [],
   "source": [
    "# Multiply show/rating by 2 for consistency with other DataFrame User_Rating values\n",
    "hulu_df[\"show/rating\"] = 2 * hulu_df[\"show/rating\"].round(decimals = 1)\n",
    "hulu_df"
   ]
  },
  {
   "cell_type": "code",
   "execution_count": null,
   "metadata": {},
   "outputs": [],
   "source": [
    "# Rename columns\n",
    "hulu_df = hulu_df.rename(columns = {\"show/canonical_name\":\"Title\", \"show/genre\":\"Genre\", \"show/rating\":\"User_Rating\"})\n",
    "hulu_df.head()"
   ]
  },
  {
   "cell_type": "code",
   "execution_count": null,
   "metadata": {},
   "outputs": [],
   "source": [
    "# Format strings in Title column?"
   ]
  },
  {
   "cell_type": "code",
   "execution_count": null,
   "metadata": {},
   "outputs": [],
   "source": [
    "# Split strings in Genre column\n",
    "h_df = hulu_df[\"Genre\"].str.split(\" \", n = 1, expand = True)\n",
    "hulu_df[\"Genre_1\"] = h_df[0]\n",
    "# hulu_df[\"Genre_2\"] = h_df[1]\n",
    "\n",
    "# Drop old Genre column\n",
    "hulu_df.drop(columns = [\"Genre\"], inplace = True)\n",
    "hulu_df"
   ]
  },
  {
   "cell_type": "code",
   "execution_count": null,
   "metadata": {},
   "outputs": [],
   "source": [
    "# Drop Genre_2 column\n",
    "# hulu_df.drop(columns = [\"Genre_2\"], inplace = True)\n",
    "# hulu_df"
   ]
  },
  {
   "cell_type": "code",
   "execution_count": null,
   "metadata": {},
   "outputs": [],
   "source": [
    "# Make genres consistent with other datasets\n",
    "hulu_df[\"Genre_1\"] = hulu_df[\"Genre_1\"].str.replace(\"Science\", \"Sci-Fi\")"
   ]
  },
  {
   "cell_type": "code",
   "execution_count": null,
   "metadata": {},
   "outputs": [],
   "source": [
    "# Drop rows containing NaN values\n",
    "hulu_df.dropna(axis = 0, how = \"any\", thresh = None, subset = None, inplace = True)\n",
    "hulu_df"
   ]
  },
  {
   "cell_type": "code",
   "execution_count": null,
   "metadata": {},
   "outputs": [],
   "source": [
    "hulu_df.dtypes"
   ]
  },
  {
   "cell_type": "code",
   "execution_count": null,
   "metadata": {},
   "outputs": [],
   "source": [
    "# Export to CSV\n",
    "hulu_df.to_csv(\"hulu_df.csv\", index = False, header = True)"
   ]
  },
  {
   "cell_type": "markdown",
   "metadata": {},
   "source": [
    "### Start of Netflix"
   ]
  },
  {
   "cell_type": "code",
   "execution_count": null,
   "metadata": {},
   "outputs": [],
   "source": [
    "# Read Netflix Shows CSV into DataFrame\n",
    "netflix_file = \"Resources/netflix_titles.csv\"\n",
    "netflixRaw_df = pd.read_csv(netflix_file)\n",
    "netflixRaw_df.head()"
   ]
  },
  {
   "cell_type": "code",
   "execution_count": null,
   "metadata": {},
   "outputs": [],
   "source": [
    "# Create new DataFrame with only desired columns\n",
    "netflix_df = netflixRaw_df[[\"title\", \"listed_in\"]].copy()\n",
    "netflix_df"
   ]
  },
  {
   "cell_type": "code",
   "execution_count": null,
   "metadata": {},
   "outputs": [],
   "source": [
    "# Rename columns\n",
    "netflix_df = netflix_df.rename(columns = {\"title\":\"Title\", \"listed_in\":\"Genre\"})\n",
    "netflix_df.head()"
   ]
  },
  {
   "cell_type": "code",
   "execution_count": null,
   "metadata": {},
   "outputs": [],
   "source": [
    "# Split strings in Genre column\n",
    "n_df = netflix_df[\"Genre\"].str.split(\" \", n = 1, expand = True)\n",
    "netflix_df[\"Genre_1\"] = n_df[0]\n",
    "# netflix_df[\"Genre_2\"] = n_df[1]\n",
    "\n",
    "# Drop old Genre column\n",
    "netflix_df.drop(columns = [\"Genre\"], inplace = True)\n",
    "netflix_df"
   ]
  },
  {
   "cell_type": "code",
   "execution_count": null,
   "metadata": {},
   "outputs": [],
   "source": [
    "# # Split strings in Genre_2 column\n",
    "# n2_df = netflix_df[\"Genre_2\"].str.split(\" \", n = 1, expand = True)\n",
    "# netflix_df[\"Genre_3\"] = n2_df[0]\n",
    "# netflix_df[\"Genre_4\"] = n2_df[1]\n",
    "\n",
    "# # Drop old Genre_2 and Genre_4 column\n",
    "# netflix_df.drop(columns = [\"Genre_2\", \"Genre_4\"], inplace = True)\n",
    "# netflix_df"
   ]
  },
  {
   "cell_type": "code",
   "execution_count": null,
   "metadata": {},
   "outputs": [],
   "source": [
    "# # Rename column\n",
    "# netflix_df = netflix_df.rename(columns = {\"Genre_3\":\"Genre_2\"})\n",
    "# netflix_df.head()"
   ]
  },
  {
   "cell_type": "code",
   "execution_count": null,
   "metadata": {},
   "outputs": [],
   "source": [
    "# Drop unwanted characters from string in Genre_1 and Genre_2\n",
    "netflix_df[\"Genre_1\"] = netflix_df[\"Genre_1\"].str.replace(\",\", \"\")\n",
    "# netflix_df[\"Genre_2\"] = netflix_df[\"Genre_2\"].str.replace(\",\", \" \")\n",
    "netflix_df"
   ]
  },
  {
   "cell_type": "code",
   "execution_count": null,
   "metadata": {},
   "outputs": [],
   "source": [
    "# Make genres consistent with other datasets\n",
    "netflix_df[\"Genre_1\"] = netflix_df[\"Genre_1\"].str.replace(\"Dramas\", \"Drama\")\n",
    "netflix_df[\"Genre_1\"] = netflix_df[\"Genre_1\"].str.replace(\"Comedies\", \"Comedy\")\n",
    "netflix_df[\"Genre_1\"] = netflix_df[\"Genre_1\"].str.replace(\"Documentaries\", \"Documentary\")\n",
    "netflix_df"
   ]
  },
  {
   "cell_type": "code",
   "execution_count": null,
   "metadata": {},
   "outputs": [],
   "source": [
    "# Drop rows containing NaN values\n",
    "netflix_df.dropna(axis = 0, how = \"any\", thresh = None, subset = None, inplace = True)\n",
    "netflix_df"
   ]
  },
  {
   "cell_type": "code",
   "execution_count": null,
   "metadata": {},
   "outputs": [],
   "source": [
    "netflix_df.dtypes"
   ]
  },
  {
   "cell_type": "code",
   "execution_count": null,
   "metadata": {},
   "outputs": [],
   "source": [
    "# Export to CSV\n",
    "netflix_df.to_csv(\"netflix_df.csv\", index = False, header = True)"
   ]
  },
  {
   "cell_type": "markdown",
   "metadata": {},
   "source": [
    "### Start of Database Connection"
   ]
  },
  {
   "cell_type": "code",
   "execution_count": null,
   "metadata": {},
   "outputs": [],
   "source": [
    "# Connect to local database\n",
    "# rds_connection_string = \"<insert user name>:<insert password>@localhost:5432/customer_db\"\n",
    "# engine = create_engine(f'postgresql://{rds_connection_string}')"
   ]
  },
  {
   "cell_type": "code",
   "execution_count": null,
   "metadata": {},
   "outputs": [],
   "source": [
    "# Check for tables\n",
    "# engine.table_names()"
   ]
  },
  {
   "cell_type": "code",
   "execution_count": null,
   "metadata": {},
   "outputs": [],
   "source": [
    "# Use pandas to load Amazon Prime Movies DataFrame into database\n",
    "# new_customer_data_df.to_sql(name='customer_name', con=engine, if_exists='append', index=False)"
   ]
  },
  {
   "cell_type": "code",
   "execution_count": null,
   "metadata": {},
   "outputs": [],
   "source": [
    "# Use pandas to load Amazon Prime Shows DataFrame into database\n",
    "# new_customer_data_df.to_sql(name='customer_name', con=engine, if_exists='append', index=False)"
   ]
  },
  {
   "cell_type": "code",
   "execution_count": null,
   "metadata": {},
   "outputs": [],
   "source": [
    "# Use pandas to load Disney Plus Shows DataFrame into database\n",
    "# new_customer_data_df.to_sql(name='customer_name', con=engine, if_exists='append', index=False)"
   ]
  },
  {
   "cell_type": "code",
   "execution_count": null,
   "metadata": {},
   "outputs": [],
   "source": [
    "# Use pandas to load merged Netflix DataFrame into database\n",
    "# new_customer_data_df.to_sql(name='customer_name', con=engine, if_exists='append', index=False)"
   ]
  },
  {
   "cell_type": "code",
   "execution_count": null,
   "metadata": {},
   "outputs": [],
   "source": [
    "# Confirm data has been added by querying the Amazon Prime Movies table\n",
    "# pd.read_sql_query('select * from customer_name', con=engine).head()"
   ]
  },
  {
   "cell_type": "code",
   "execution_count": null,
   "metadata": {},
   "outputs": [],
   "source": [
    "# Confirm data has been added by querying the Amazon Prime Shows table\n",
    "# pd.read_sql_query('select * from customer_name', con=engine).head()"
   ]
  },
  {
   "cell_type": "code",
   "execution_count": null,
   "metadata": {},
   "outputs": [],
   "source": [
    "# Confirm data has been added by querying the Disney Plus Shows table\n",
    "# pd.read_sql_query('select * from customer_name', con=engine).head()"
   ]
  },
  {
   "cell_type": "code",
   "execution_count": null,
   "metadata": {},
   "outputs": [],
   "source": [
    "# Confirm data has been added by querying the Netflix table\n",
    "# pd.read_sql_query('select * from customer_name', con=engine).head()"
   ]
  }
 ],
 "metadata": {
  "kernelspec": {
   "display_name": "Python 3",
   "language": "python",
   "name": "python3"
  },
  "language_info": {
   "codemirror_mode": {
    "name": "ipython",
    "version": 3
   },
   "file_extension": ".py",
   "mimetype": "text/x-python",
   "name": "python",
   "nbconvert_exporter": "python",
   "pygments_lexer": "ipython3",
   "version": "3.6.10"
  }
 },
 "nbformat": 4,
 "nbformat_minor": 4
}
