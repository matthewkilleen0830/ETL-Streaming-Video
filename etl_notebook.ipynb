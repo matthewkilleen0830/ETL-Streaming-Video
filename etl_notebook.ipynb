{
 "cells": [
  {
   "cell_type": "markdown",
   "metadata": {},
   "source": [
    "# ETL Project:  Video Streaming Services\n",
    "Our project looks at the ETL process of the top video streaming services.  We aim to create a database with (1) aggregated table, each consisting of television shows from popular platforms such as Amazon Prime, Disney Plus, and Hulu.  Since each provider has different titles with little to no overlap, our objective is to create a relational database for those who are subscribed to all of them to have the ability to run filtered queries to find something to watch and where. "
   ]
  },
  {
   "cell_type": "code",
   "execution_count": null,
   "metadata": {},
   "outputs": [],
   "source": [
    "# Dependencies and setup\n",
    "import pandas as pd\n",
    "import numpy as np\n",
    "from sqlalchemy import create_engine\n",
    "from config import (user, password, host, port, database)\n",
    "from TAconfig import (user, password, host, port, database)"
   ]
  },
  {
   "cell_type": "markdown",
   "metadata": {},
   "source": [
    "# Extract\n",
    "\n",
    "- Step 1:  we begin by loading each CSV into its own respective DataFrame."
   ]
  },
  {
   "cell_type": "code",
   "execution_count": null,
   "metadata": {},
   "outputs": [],
   "source": [
    "# Read Amazon Prime Shows CSV into DataFrame\n",
    "amazonPrime_file = \"Resources/amazon_prime_shows.csv\"\n",
    "amazonPrimeRaw_df = pd.read_csv(amazonPrime_file, encoding = \"iso-8859-1\")\n",
    "amazonPrimeRaw_df.head()"
   ]
  },
  {
   "cell_type": "code",
   "execution_count": null,
   "metadata": {},
   "outputs": [],
   "source": [
    "# Read Disney Plus Shows CSV into DataFrame\n",
    "disneyPlus_file = \"Resources/disney_plus_shows.csv\"\n",
    "disneyPlusRaw_df = pd.read_csv(disneyPlus_file)\n",
    "disneyPlusRaw_df.head()"
   ]
  },
  {
   "cell_type": "code",
   "execution_count": null,
   "metadata": {},
   "outputs": [],
   "source": [
    "# Read Hulu Shows CSV into DataFrame\n",
    "hulu_file = \"Resources/HuluRaw.csv\"\n",
    "huluRaw_df = pd.read_csv(hulu_file)\n",
    "huluRaw_df.head()"
   ]
  },
  {
   "cell_type": "markdown",
   "metadata": {},
   "source": [
    "# Transform Amazon Prime\n",
    "\n",
    "- Step 1:  create new DataFrame with only desired columns.\n",
    "- Step 2:  drop rows containing NaN values.\n",
    "- Step 3:  rename columns.\n",
    "- Step 4:  split strings in genre_1 column into (2) new columns; drop original genre_1 column.\n",
    "- Step 5:  split strings in genre_3 column into (2) new columns; drop original genre_3 column.\n",
    "- Step 6:  split strings in genre_5 column into (1) new column; drop original genre_5 column.\n",
    "- Step 7:  add new column with platform name (i.e. Amazon Prime).\n",
    "- Step 8:  rename columns.\n",
    "- Step 9:  drop unwanted characters (,) from each genre column.\n",
    "- Step 10:  format data in each genre column to match genres across all DataFrames (i.e. \"Sci-fi\" becomes \"Sci-Fi\").\n",
    "- Step 11:  rearrange columns."
   ]
  },
  {
   "cell_type": "code",
   "execution_count": null,
   "metadata": {},
   "outputs": [],
   "source": [
    "# Create new DataFrame with only desired columns\n",
    "amazonPrime_df = amazonPrimeRaw_df[[\"Name of the show\", \"Genre\", \"IMDb rating\"]].copy()\n",
    "amazonPrime_df"
   ]
  },
  {
   "cell_type": "code",
   "execution_count": null,
   "metadata": {},
   "outputs": [],
   "source": [
    "# Drop rows containing NaN values\n",
    "amazonPrime_df.dropna(axis = 0, how = \"any\", thresh = None, subset = None, inplace = True)\n",
    "amazonPrime_df"
   ]
  },
  {
   "cell_type": "code",
   "execution_count": null,
   "metadata": {},
   "outputs": [],
   "source": [
    "# Rename columns\n",
    "amazonPrime_df = amazonPrime_df.rename(columns = {\"Name of the show\":\"title\", \"Genre\":\"genre_1\", \"IMDb rating\":\"user_rating\"})\n",
    "amazonPrime_df.head()"
   ]
  },
  {
   "cell_type": "code",
   "execution_count": null,
   "metadata": {},
   "outputs": [],
   "source": [
    "# Split strings in genre_1 column\n",
    "a_df = amazonPrime_df[\"genre_1\"].str.split(\" \", n = 1, expand = True)\n",
    "amazonPrime_df[\"genre_2\"] = a_df[0]\n",
    "amazonPrime_df[\"genre_3\"] = a_df[1]\n",
    "\n",
    "# Drop old genre_1 column\n",
    "amazonPrime_df.drop(columns = [\"genre_1\"], inplace = True)\n",
    "amazonPrime_df.head()"
   ]
  },
  {
   "cell_type": "code",
   "execution_count": null,
   "metadata": {},
   "outputs": [],
   "source": [
    "# Split strings in genre_3 column\n",
    "a2_df = amazonPrime_df[\"genre_3\"].str.split(\" \", n = 1, expand = True)\n",
    "amazonPrime_df[\"genre_4\"] = a2_df[0]\n",
    "amazonPrime_df[\"genre_5\"] = a2_df[1]\n",
    "\n",
    "# Drop old genre_3 column\n",
    "amazonPrime_df.drop(columns = [\"genre_3\"], inplace = True)\n",
    "amazonPrime_df.head()"
   ]
  },
  {
   "cell_type": "code",
   "execution_count": null,
   "metadata": {},
   "outputs": [],
   "source": [
    "# Split strings in genre_5 column\n",
    "a3_df = amazonPrime_df[\"genre_5\"].str.split(\" \", n = 1, expand = True)\n",
    "amazonPrime_df[\"genre_6\"] = a3_df[0]\n",
    "\n",
    "# Drop old genre_5 column\n",
    "amazonPrime_df.drop(columns = [\"genre_5\"], inplace = True)\n",
    "amazonPrime_df.head()"
   ]
  },
  {
   "cell_type": "code",
   "execution_count": null,
   "metadata": {},
   "outputs": [],
   "source": [
    "# Add new column with platform name\n",
    "amazonPrime_df[\"platform\"] = \"Amazon Prime\"\n",
    "amazonPrime_df.head()"
   ]
  },
  {
   "cell_type": "code",
   "execution_count": null,
   "metadata": {},
   "outputs": [],
   "source": [
    "# Rename columns\n",
    "amazonPrime_df = amazonPrime_df.rename(columns = {\"genre_2\":\"genre_1\", \"genre_4\":\"genre_2\", \"genre_6\":\"genre_3\"})\n",
    "amazonPrime_df.head()"
   ]
  },
  {
   "cell_type": "code",
   "execution_count": null,
   "metadata": {},
   "outputs": [],
   "source": [
    "# Drop unwanted characters from strings in genre_1, genre_2, and genre_3\n",
    "amazonPrime_df[\"genre_1\"] = amazonPrime_df[\"genre_1\"].str.replace(\",\", \"\")\n",
    "amazonPrime_df[\"genre_2\"] = amazonPrime_df[\"genre_2\"].str.replace(\",\", \"\")\n",
    "amazonPrime_df[\"genre_3\"] = amazonPrime_df[\"genre_3\"].str.replace(\",\", \"\")"
   ]
  },
  {
   "cell_type": "code",
   "execution_count": null,
   "metadata": {},
   "outputs": [],
   "source": [
    "# Make genre data consistent with other platform datasets\n",
    "amazonPrime_df[\"genre_1\"] = amazonPrime_df[\"genre_1\"].str.replace(\"Sci-fi\", \"Sci-Fi\")\n",
    "amazonPrime_df[\"genre_1\"] = amazonPrime_df[\"genre_1\"].str.replace(\"comedy\", \"Comedy\")\n",
    "amazonPrime_df[\"genre_2\"] = amazonPrime_df[\"genre_2\"].str.replace(\"Sci-fi\", \"Sci-Fi\")\n",
    "amazonPrime_df[\"genre_2\"] = amazonPrime_df[\"genre_2\"].str.replace(\"comedy\", \"Comedy\")\n",
    "amazonPrime_df[\"genre_3\"] = amazonPrime_df[\"genre_3\"].str.replace(\"Sci-fi\", \"Sci-Fi\")\n",
    "amazonPrime_df[\"genre_3\"] = amazonPrime_df[\"genre_3\"].str.replace(\"comedy\", \"Comedy\")"
   ]
  },
  {
   "cell_type": "code",
   "execution_count": null,
   "metadata": {},
   "outputs": [],
   "source": [
    "# Rearrange columns\n",
    "amazonPrime_df = amazonPrime_df[[\"platform\", \"title\", \"genre_1\", \"genre_2\", \"genre_3\", \"user_rating\"]]\n",
    "amazonPrime_df.head()"
   ]
  },
  {
   "cell_type": "markdown",
   "metadata": {},
   "source": [
    "# Transform Disney Plus\n",
    "\n",
    "- Step 1:  create new DataFrame with only desired columns.\n",
    "- Step 2:  drop rows containing NaN values.\n",
    "- Step 3:  rename columns.\n",
    "- Step 4:  split strings in genre_1 column into (2) new columns; drop original genre_1 column.\n",
    "- Step 5:  split strings in genre_3 column into (2) new columns; drop original genre_3 column.\n",
    "- Step 6:  split strings in genre_5 column into (1) new column; drop original genre_5 column.\n",
    "- Step 7:  add new column with platform name (i.e. Disney Plus).\n",
    "- Step 8:  rename columns.\n",
    "- Step 9:  drop unwanted characters (,) from each genre column.\n",
    "- Step 10:  format data in each genre column to match genres across all DataFrames (i.e. \"Reality-TV\" becomes \"Reality\").\n",
    "- Step 11:  rearrange columns."
   ]
  },
  {
   "cell_type": "code",
   "execution_count": null,
   "metadata": {},
   "outputs": [],
   "source": [
    "# Create new DataFrame with only desired columns\n",
    "disneyPlus_df = disneyPlusRaw_df[[\"title\", \"genre\", \"imdb_rating\"]].copy()\n",
    "disneyPlus_df"
   ]
  },
  {
   "cell_type": "code",
   "execution_count": null,
   "metadata": {},
   "outputs": [],
   "source": [
    "# Drop rows containing NaN values\n",
    "disneyPlus_df.dropna(axis = 0, how = \"any\", thresh = None, subset = None, inplace = True)\n",
    "disneyPlus_df"
   ]
  },
  {
   "cell_type": "code",
   "execution_count": null,
   "metadata": {},
   "outputs": [],
   "source": [
    "# Rename columns\n",
    "disneyPlus_df = disneyPlus_df.rename(columns = {\"genre\":\"genre_1\", \"imdb_rating\":\"user_rating\"})\n",
    "disneyPlus_df.head()"
   ]
  },
  {
   "cell_type": "code",
   "execution_count": null,
   "metadata": {},
   "outputs": [],
   "source": [
    "# Split strings in genre_1 column\n",
    "d_df = disneyPlus_df[\"genre_1\"].str.split(\" \", n = 1, expand = True)\n",
    "disneyPlus_df[\"genre_2\"] = d_df[0]\n",
    "disneyPlus_df[\"genre_3\"] = d_df[1]\n",
    "\n",
    "# Drop old genre_1 column\n",
    "disneyPlus_df.drop(columns = [\"genre_1\"], inplace = True)\n",
    "disneyPlus_df.head()"
   ]
  },
  {
   "cell_type": "code",
   "execution_count": null,
   "metadata": {},
   "outputs": [],
   "source": [
    "# Split strings in genre_3 column\n",
    "d2_df = disneyPlus_df[\"genre_3\"].str.split(\" \", n = 1, expand = True)\n",
    "disneyPlus_df[\"genre_4\"] = d2_df[0]\n",
    "disneyPlus_df[\"genre_5\"] = d2_df[1]\n",
    "\n",
    "# Drop old genre_3 column\n",
    "disneyPlus_df.drop(columns = [\"genre_3\"], inplace = True)\n",
    "disneyPlus_df.head()"
   ]
  },
  {
   "cell_type": "code",
   "execution_count": null,
   "metadata": {},
   "outputs": [],
   "source": [
    "# Split strings in genre_5 column\n",
    "d3_df = disneyPlus_df[\"genre_5\"].str.split(\" \", n = 1, expand = True)\n",
    "disneyPlus_df[\"genre_6\"] = d3_df[0]\n",
    "\n",
    "# Drop old genre_5 column\n",
    "disneyPlus_df.drop(columns = [\"genre_5\"], inplace = True)\n",
    "disneyPlus_df.head()"
   ]
  },
  {
   "cell_type": "code",
   "execution_count": null,
   "metadata": {},
   "outputs": [],
   "source": [
    "# Add new column with platform name\n",
    "disneyPlus_df[\"platform\"] = \"Disney Plus\"\n",
    "disneyPlus_df.head()"
   ]
  },
  {
   "cell_type": "code",
   "execution_count": null,
   "metadata": {},
   "outputs": [],
   "source": [
    "# Rename columns\n",
    "disneyPlus_df = disneyPlus_df.rename(columns = {\"genre_2\":\"genre_1\", \"genre_4\":\"genre_2\", \"genre_6\":\"genre_3\"})\n",
    "disneyPlus_df.head()"
   ]
  },
  {
   "cell_type": "code",
   "execution_count": null,
   "metadata": {},
   "outputs": [],
   "source": [
    "# Drop unwanted characters from strings in genre_1, genre_2, and genre_3\n",
    "disneyPlus_df[\"genre_1\"] = disneyPlus_df[\"genre_1\"].str.replace(\",\", \"\")\n",
    "disneyPlus_df[\"genre_2\"] = disneyPlus_df[\"genre_2\"].str.replace(\",\", \"\")\n",
    "disneyPlus_df[\"genre_3\"] = disneyPlus_df[\"genre_3\"].str.replace(\",\", \"\")"
   ]
  },
  {
   "cell_type": "code",
   "execution_count": null,
   "metadata": {},
   "outputs": [],
   "source": [
    "# Make genre data consistent with other platform datasets\n",
    "disneyPlus_df[\"genre_1\"] = disneyPlus_df[\"genre_1\"].str.replace(\"Reality-TV\", \"Reality\")\n",
    "disneyPlus_df[\"genre_2\"] = disneyPlus_df[\"genre_2\"].str.replace(\"Reality-TV\", \"Reality\")\n",
    "disneyPlus_df[\"genre_3\"] = disneyPlus_df[\"genre_3\"].str.replace(\"Reality-TV\", \"Reality\")"
   ]
  },
  {
   "cell_type": "code",
   "execution_count": null,
   "metadata": {},
   "outputs": [],
   "source": [
    "# Rearrange columns\n",
    "disneyPlus_df = disneyPlus_df[[\"platform\", \"title\", \"genre_1\", \"genre_2\", \"genre_3\", \"user_rating\"]]\n",
    "disneyPlus_df.head()"
   ]
  },
  {
   "cell_type": "markdown",
   "metadata": {},
   "source": [
    "# Transform Hulu\n",
    "\n",
    "- Step 1:  create new DataFrame with only desired columns.\n",
    "- Step 2:  drop rows containing NaN values.\n",
    "- Step 3:  rename columns.\n",
    "- Step 4:  split strings in genre_1 column into (2) new columns; drop original genre_1 column.\n",
    "- Step 5:  split strings in genre_3 column into (2) new columns; drop original genre_3 and genre_4 columns (genre_4 contained no relevant data).\n",
    "- Step 6:  add new column with platform name (i.e. Hulu).\n",
    "- Step 7:  rename columns.\n",
    "- Step 8:  multiply values in user_rating column times 2 to scale-up and match user_rating values across all DataFrames.\n",
    "- Step 9:  format data in each genre column to match genres across all DataFrames (i.e. \"Science\" becomes \"Sci-Fi\").\n",
    "- Step 10:  rearrange columns."
   ]
  },
  {
   "cell_type": "code",
   "execution_count": null,
   "metadata": {},
   "outputs": [],
   "source": [
    "# Create new DataFrame with only desired columns\n",
    "hulu_df = huluRaw_df[[\"show/canonical_name\", \"show/genre\", \"show/rating\"]].copy()\n",
    "hulu_df"
   ]
  },
  {
   "cell_type": "code",
   "execution_count": null,
   "metadata": {},
   "outputs": [],
   "source": [
    "# Drop rows containing NaN values\n",
    "hulu_df.dropna(axis = 0, how = \"any\", thresh = None, subset = None, inplace = True)\n",
    "hulu_df"
   ]
  },
  {
   "cell_type": "code",
   "execution_count": null,
   "metadata": {},
   "outputs": [],
   "source": [
    "# Rename columns\n",
    "hulu_df = hulu_df.rename(columns = {\"show/canonical_name\":\"title\", \"show/genre\":\"genre_1\", \"show/rating\":\"user_rating\"})\n",
    "hulu_df.head()"
   ]
  },
  {
   "cell_type": "code",
   "execution_count": null,
   "metadata": {},
   "outputs": [],
   "source": [
    "# Split strings in genre_1 column\n",
    "h_df = hulu_df[\"genre_1\"].str.split(\" \", n = 1, expand = True)\n",
    "hulu_df[\"genre_2\"] = h_df[0]\n",
    "hulu_df[\"genre_3\"] = h_df[1]\n",
    "\n",
    "# Drop old genre_1 column\n",
    "hulu_df.drop(columns = [\"genre_1\"], inplace = True)\n",
    "hulu_df.head()"
   ]
  },
  {
   "cell_type": "code",
   "execution_count": null,
   "metadata": {},
   "outputs": [],
   "source": [
    "# Split strings in genre_3 column\n",
    "h2_df = hulu_df[\"genre_3\"].str.split(\" \", n = 1, expand = True)\n",
    "hulu_df[\"genre_4\"] = h2_df[0]\n",
    "hulu_df[\"genre_5\"] = h2_df[1]\n",
    "\n",
    "# Drop old genre_3 and new genre_4 column (only contains values of \"and\")\n",
    "hulu_df.drop(columns = [\"genre_3\"], inplace = True)\n",
    "hulu_df.drop(columns = [\"genre_4\"], inplace = True)\n",
    "hulu_df.head()"
   ]
  },
  {
   "cell_type": "code",
   "execution_count": null,
   "metadata": {},
   "outputs": [],
   "source": [
    "# Add new column with platform name\n",
    "hulu_df[\"platform\"] = \"Hulu\"\n",
    "hulu_df.head()"
   ]
  },
  {
   "cell_type": "code",
   "execution_count": null,
   "metadata": {},
   "outputs": [],
   "source": [
    "# Rename columns\n",
    "hulu_df = hulu_df.rename(columns = {\"genre_2\":\"genre_1\", \"genre_5\":\"genre_2\"})\n",
    "hulu_df.head()"
   ]
  },
  {
   "cell_type": "code",
   "execution_count": null,
   "metadata": {},
   "outputs": [],
   "source": [
    "# Multiply user_rating by 2 for consistency with other DataFrame user_rating values\n",
    "hulu_df[\"user_rating\"] = 2 * hulu_df[\"user_rating\"].round(decimals = 1)\n",
    "hulu_df.head()"
   ]
  },
  {
   "cell_type": "code",
   "execution_count": null,
   "metadata": {},
   "outputs": [],
   "source": [
    "# Make genres consistent with other datasets\n",
    "hulu_df[\"genre_1\"] = hulu_df[\"genre_1\"].str.replace(\"Science\", \"Sci-Fi\")\n",
    "hulu_df[\"genre_1\"] = hulu_df[\"genre_1\"].str.replace(\"Health\", \"Reality\")\n",
    "hulu_df[\"genre_2\"] = hulu_df[\"genre_2\"].str.replace(\"Wellness\", \"Game Shows\")"
   ]
  },
  {
   "cell_type": "code",
   "execution_count": null,
   "metadata": {},
   "outputs": [],
   "source": [
    "# Rearrange columns\n",
    "hulu_df = hulu_df[[\"platform\", \"title\", \"genre_1\", \"genre_2\", \"user_rating\"]]\n",
    "hulu_df.head()"
   ]
  },
  {
   "cell_type": "markdown",
   "metadata": {},
   "source": [
    "# Load\n",
    "\n",
    "- Step 1:  create single DataFrame with data from (3) previous DataFrames.\n",
    "- Step 2:  in pgAdmin4, create new database.\n",
    "- Step 3:  in pgAdmin4, create table schemata.\n",
    "- Step 4:  create an engine that can talk to the database.\n",
    "- Step 5:  check to see our table has been created in SQL.\n",
    "- Step 6:  use pandas to load aggregated DataFrame into database."
   ]
  },
  {
   "cell_type": "code",
   "execution_count": null,
   "metadata": {},
   "outputs": [],
   "source": [
    "# Create single DataFrame with data from (3) previous DataFrames\n",
    "streamingShows_df = amazonPrime_df.append(disneyPlus_df).append(hulu_df)\n",
    "streamingShows_df"
   ]
  },
  {
   "cell_type": "code",
   "execution_count": null,
   "metadata": {},
   "outputs": [],
   "source": [
    "# Create an engine that can talk to the database\n",
    "engine = create_engine(f'postgresql://{user}:{password}@{host}:{port}/{database}')\n",
    "connection = engine.connect()"
   ]
  },
  {
   "cell_type": "code",
   "execution_count": null,
   "metadata": {},
   "outputs": [],
   "source": [
    "# Check for table\n",
    "engine.table_names()"
   ]
  },
  {
   "cell_type": "code",
   "execution_count": null,
   "metadata": {},
   "outputs": [],
   "source": [
    "# Use pandas to load aggregated DataFrame into database\n",
    "streamingShows_df.to_sql(name = \"streamingshows\", con = engine, if_exists = \"append\", index = False)"
   ]
  },
  {
   "cell_type": "code",
   "execution_count": null,
   "metadata": {},
   "outputs": [],
   "source": []
  }
 ],
 "metadata": {
  "kernelspec": {
   "display_name": "Python 3",
   "language": "python",
   "name": "python3"
  },
  "language_info": {
   "codemirror_mode": {
    "name": "ipython",
    "version": 3
   },
   "file_extension": ".py",
   "mimetype": "text/x-python",
   "name": "python",
   "nbconvert_exporter": "python",
   "pygments_lexer": "ipython3",
   "version": "3.6.10"
  }
 },
 "nbformat": 4,
 "nbformat_minor": 4
}
